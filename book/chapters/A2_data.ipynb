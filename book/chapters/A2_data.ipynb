{
 "cells": [
  {
   "cell_type": "markdown",
   "id": "3d643890-1b98-465b-8c7a-d083ec13328c",
   "metadata": {},
   "source": [
    "# Appendix 2 Data\n",
    "\n",
    "## OOI\n",
    "\n",
    "### Regional Cabled Array\n",
    "\n",
    "#### Shallow Profiler\n",
    "\n",
    "##### Study site locations\n",
    "    \n",
    "RCA and  maintains three shallow profiler sites in the northeast Pacific Ocean. \n",
    "    \n",
    "\n",
    "```\n",
    "Site name             Abbreviation     Latitude          Longitude\n",
    "------------------    ------------     --------          ---------\n",
    "Oregon Offshore         OOF            44.37415          -124.95648\n",
    "Oregon Slope Base       OSB            44.52897          -125.38966 \n",
    "Axial Base              AXB            45.83049          -129.75326\n",
    "```   \n",
    "\n",
    "* need map image\n",
    "\n",
    "\n",
    "For working with time-series data we introduce a `data dictionary` called `dd` in the code. \n",
    "The keys for `dd` are short sensor names as given below.\n",
    "\n"
   ]
  },
  {
   "cell_type": "markdown",
   "id": "1d70b452-74cb-4399-b755-c3aedc9de573",
   "metadata": {},
   "source": [
    "| OIL* | n** |remark|instrument|sensor keys|\n",
    "|--|--|--|-------------------|-------------------------|\n",
    "|ctdpf|5|CTD, operates continuously|ctd| salinity, temperature, pressure, density, conductivity, depth\n",
    "|pco2|1|carbonate chemistry, midnight and noon *descent* only|pco2| pco2\n",
    "|phsen|1|pH, midnight and noon *descent* only|ph| ph\n",
    "|nutnr|2|nitrate, dark samples; midnight and noon *ascent* only|nitrate| nitrate, ...?...\n",
    "|flort|3|Fluorometer triplet, continuous|fluor| chlora, fdom, backscatter\n",
    "|parad|1|photosynthetically available radiation|PAR|par\n",
    "|velpt|3|current speed and direction|vel| north, east, up\n",
    "|spkir|7|downwelling light, 7 channels (nm)|spectral irradiance| si412, si443, si490, si510, si555, si620, si683\n",
    "|optaa|86|spectrophotometer ascent noon/midnight|spectrophotometer|oa, ba\n",
    "\n",
    "\n",
    "$^*$ OIL abbreviates \"OOI Instrument Label\" <br>\n",
    "$^{**}$ n column: How many sensors are on this instrument"
   ]
  },
  {
   "cell_type": "markdown",
   "id": "4314b1cc-0c39-440c-9998-a271c3d1813b",
   "metadata": {},
   "source": [
    "Now to derive the *value* of the data dictionary element, say `dd['temperature']`. Let's treat this\n",
    "like a basket of items and spell the items out. First let's suppose there is an `xarray DataArray`\n",
    "with a dimension of (sorted) time and data variables `sensor` and `depth`. Hence type(dd['temperature][0])\n",
    "will be `<DataArray>`.\n",
    "\n",
    "\n",
    "It will be useful to indicate an expected data range and a couple of colors for plotting as well.\n",
    "We can assign these tuple indices 1 and 2 and 'sub-tuple' indices 0 and 1. Altogether then:\n",
    "\n",
    "\n",
    "- `dd['temperature'][0] is an `xarray` `DataArray` with `dim` = `time` and data variables `data` and `depth`.\n",
    "- `dd['temperature'][1][0]` and `[1]` are the (low, high) data range\n",
    "- `dd['temperature'][2][0]` and `[1]` are primary and secondary colors"
   ]
  }
 ],
 "metadata": {
  "kernelspec": {
   "display_name": "Python 3 (ipykernel)",
   "language": "python",
   "name": "python3"
  },
  "language_info": {
   "codemirror_mode": {
    "name": "ipython",
    "version": 3
   },
   "file_extension": ".py",
   "mimetype": "text/x-python",
   "name": "python",
   "nbconvert_exporter": "python",
   "pygments_lexer": "ipython3",
   "version": "3.11.4"
  }
 },
 "nbformat": 4,
 "nbformat_minor": 5
}
