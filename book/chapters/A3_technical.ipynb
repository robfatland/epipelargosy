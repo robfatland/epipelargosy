{
 "cells": [
  {
   "cell_type": "markdown",
   "id": "e97377aa-01f8-463c-b3b9-8cae55f2f3ad",
   "metadata": {},
   "source": [
    "# Appendix 3 Technical Notes\n",
    "\n",
    "\n",
    "This appendix covers a lot of the 'how to' technical detail used in the main chapters."
   ]
  }
 ],
 "metadata": {
  "kernelspec": {
   "display_name": "Python 3 (ipykernel)",
   "language": "python",
   "name": "python3"
  },
  "language_info": {
   "codemirror_mode": {
    "name": "ipython",
    "version": 3
   },
   "file_extension": ".py",
   "mimetype": "text/x-python",
   "name": "python",
   "nbconvert_exporter": "python",
   "pygments_lexer": "ipython3",
   "version": "3.11.4"
  }
 },
 "nbformat": 4,
 "nbformat_minor": 5
}
